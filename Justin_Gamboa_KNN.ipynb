{
 "cells": [
  {
   "cell_type": "markdown",
   "metadata": {},
   "source": [
    "1. Load and Explore the Dataset"
   ]
  },
  {
   "cell_type": "code",
   "execution_count": null,
   "metadata": {},
   "outputs": [
    {
     "name": "stdout",
     "output_type": "stream",
     "text": [
      "Total Sample: 1797\n",
      "Dimensionality: 64\n",
      "-----------------------\n",
      "X_train size: (1297, 64)\n",
      "y_train size: (1297,)\n",
      "X_test size: (500, 64)\n",
      "y_test size: (500,)\n"
     ]
    }
   ],
   "source": [
    "# Load the digits data set from sklearn and split into test and training data\n",
    "import sklearn\n",
    "from sklearn.datasets import load_digits\n",
    "from sklearn.model_selection import train_test_split\n",
    "\n",
    "# Load digits from sklearn.datasets\n",
    "digits = load_digits()\n",
    "\n",
    "# Display shape of features and label data\n",
    "print(f\"Total Sample: {digits.data.shape[0]}\")\n",
    "print(f\"Dimensionality: {digits.data.shape[1]}\")\n",
    "\n",
    "# Randomly split data with 500 test samples\n",
    "X_train, X_test, y_train, y_test = train_test_split(\n",
    "    digits.data, digits.target, train_size=0.722, random_state=42, shuffle=True)\n",
    "\n",
    "# Display shape of data to verify split\n",
    "print(\"-----------------------\")\n",
    "print(f\"X_train size: {X_train.shape}\")\n",
    "print(f\"y_train size: {y_train.shape}\")\n",
    "print(f\"X_test size: {X_test.shape}\")\n",
    "print(f\"y_test size: {y_test.shape}\")"
   ]
  },
  {
   "cell_type": "markdown",
   "metadata": {},
   "source": [
    "2. Visualize Training Data"
   ]
  },
  {
   "cell_type": "code",
   "execution_count": null,
   "metadata": {},
   "outputs": [
    {
     "data": {
      "image/png": "[encoded data removed]",
      "text/plain": [
       "<Figure size 1500x500 with 10 Axes>"
      ]
     },
     "metadata": {},
     "output_type": "display_data"
    }
   ],
   "source": [
    "# Use matplotlib to display randomly selected digits\n",
    "import matplotlib.pyplot as plt\n",
    "import random\n",
    "\n",
    "# Select 10 random samples from X_train\n",
    "num_samples = X_train.shape[0]\n",
    "digit_idx = random.sample(range(0, num_samples), 10)\n",
    "\n",
    "# Display the images in a grid using matplotlib\n",
    "fig, axs = plt.subplots(1,10, figsize=(15,5))\n",
    "for idx, digit in enumerate(digit_idx):\n",
    "    axs[idx].axis('off')\n",
    "    axs[idx].imshow(X_train[digit].reshape(8,8), cmap='gray')\n",
    "    # Assign each digit its corresponding label\n",
    "    axs[idx].set_title(f\"Label: {y_train[digit]}\")"
   ]
  },
  {
   "cell_type": "markdown",
   "metadata": {},
   "source": [
    "3. Implement the k-Nearest Neighbor Classifier"
   ]
  },
  {
   "cell_type": "code",
   "execution_count": null,
   "metadata": {},
   "outputs": [],
   "source": [
    "# Train multiple k-NN classifiers using sklearn KNeightborsClassifier\n",
    "from sklearn.neighbors import KNeighborsClassifier\n",
    "\n",
    "#\n",
    "k = [1, 3, 5, 7, 9]"
   ]
  }
 ],
 "metadata": {
  "kernelspec": {
   "display_name": "Python (myenv)",
   "language": "python",
   "name": "myenv"
  },
  "language_info": {
   "codemirror_mode": {
    "name": "ipython",
    "version": 3
   },
   "file_extension": ".py",
   "mimetype": "text/x-python",
   "name": "python",
   "nbconvert_exporter": "python",
   "pygments_lexer": "ipython3",
   "version": "3.11.4"
  }
 },
 "nbformat": 4,
 "nbformat_minor": 2
}

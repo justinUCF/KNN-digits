{
 "cells": [
  {
   "cell_type": "markdown",
   "metadata": {},
   "source": [
    "1. Load and Explore the Dataset"
   ]
  },
  {
   "cell_type": "code",
   "execution_count": 41,
   "metadata": {},
   "outputs": [
    {
     "name": "stdout",
     "output_type": "stream",
     "text": [
      "Total Sample: 1797\n",
      "Dimensionality: 64\n",
      "-----------------------\n",
      "X_train size: (1297, 64)\n",
      "y_train size: (1297,)\n",
      "X_test size: (500, 64)\n",
      "y_test size: (500,)\n"
     ]
    }
   ],
   "source": [
    "import sklearn\n",
    "from sklearn.datasets import load_digits\n",
    "from sklearn.model_selection import train_test_split\n",
    "\n",
    "# Load digits from sklearn.datasets\n",
    "digits = load_digits()\n",
    "\n",
    "# Display shape of features and label data\n",
    "print(f\"Total Sample: {digits.data.shape[0]}\")\n",
    "print(f\"Dimensionality: {digits.data.shape[1]}\")\n",
    "\n",
    "# Randomly split data with 500 test samples\n",
    "X_train, X_test, y_train, y_test = train_test_split(\n",
    "    digits.data, digits.target, train_size=0.722, random_state=42, shuffle=True)\n",
    "\n",
    "# Display shape of data to verify split\n",
    "print(\"-----------------------\")\n",
    "print(f\"X_train size: {X_train.shape}\")\n",
    "print(f\"y_train size: {y_train.shape}\")\n",
    "print(f\"X_test size: {X_test.shape}\")\n",
    "print(f\"y_test size: {y_test.shape}\")"
   ]
  },
  {
   "cell_type": "markdown",
   "metadata": {},
   "source": [
    "2. Visualize Training Data"
   ]
  },
  {
   "cell_type": "code",
   "execution_count": null,
   "metadata": {},
   "outputs": [
    {
     "name": "stdout",
     "output_type": "stream",
     "text": [
      "[ 0.  0. 10. 15.  8. 13.  6.  0.  0.  0. 13. 14. 14. 15.  2.  0.  0.  1.\n",
      " 15.  0. 13.  7.  0.  0.  0.  2.  7.  9. 16. 13. 13.  0.  0.  0. 10. 16.\n",
      " 11.  7.  2.  0.  0.  0.  4. 16.  2.  0.  0.  0.  0.  0.  7. 13.  0.  0.\n",
      "  0.  0.  0.  0. 12.  4.  0.  0.  0.  0.]\n"
     ]
    }
   ],
   "source": [
    "import matplotlib.pyplot as plt\n",
    "import random\n",
    "\n",
    "num_samples = X_train.shape[0]\n",
    "\n",
    "print(X_train)\n",
    "\n",
    "rand_idx = "
   ]
  },
  {
   "cell_type": "code",
   "execution_count": null,
   "metadata": {},
   "outputs": [],
   "source": []
  }
 ],
 "metadata": {
  "kernelspec": {
   "display_name": "Python 3",
   "language": "python",
   "name": "python3"
  },
  "language_info": {
   "codemirror_mode": {
    "name": "ipython",
    "version": 3
   },
   "file_extension": ".py",
   "mimetype": "text/x-python",
   "name": "python",
   "nbconvert_exporter": "python",
   "pygments_lexer": "ipython3",
   "version": "3.12.6"
  }
 },
 "nbformat": 4,
 "nbformat_minor": 2
}

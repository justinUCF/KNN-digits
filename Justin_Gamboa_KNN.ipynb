{
 "cells": [
  {
   "cell_type": "markdown",
   "metadata": {},
   "source": [
    "<h1>1. Load and Explore the Dataset</h1>"
   ]
  },
  {
   "cell_type": "code",
   "execution_count": 200,
   "metadata": {},
   "outputs": [
    {
     "name": "stdout",
     "output_type": "stream",
     "text": [
      "Total Sample: 1797\n",
      "Dimensionality: 64\n",
      "-----------------------\n",
      "X_train size: (1297, 64)\n",
      "y_train size: (1297,)\n",
      "X_test size: (500, 64)\n",
      "y_test size: (500,)\n"
     ]
    }
   ],
   "source": [
    "# Load the digits data set from sklearn and split into test and training data\n",
    "import sklearn\n",
    "from sklearn.datasets import load_digits\n",
    "from sklearn.model_selection import train_test_split\n",
    "\n",
    "# Load digits from sklearn.datasets\n",
    "digits = load_digits()\n",
    "\n",
    "# Display shape of features and label data\n",
    "print(f\"Total Sample: {digits.data.shape[0]}\")\n",
    "print(f\"Dimensionality: {digits.data.shape[1]}\")\n",
    "\n",
    "# Randomly split data with 500 test samples\n",
    "X_train, X_test, y_train, y_test = train_test_split(\n",
    "    digits.data, digits.target, train_size=0.722, random_state=42, shuffle=True)\n",
    "\n",
    "# Display shape of data to verify split\n",
    "print(\"-----------------------\")\n",
    "print(f\"X_train size: {X_train.shape}\")\n",
    "print(f\"y_train size: {y_train.shape}\")\n",
    "print(f\"X_test size: {X_test.shape}\")\n",
    "print(f\"y_test size: {y_test.shape}\")"
   ]
  },
  {
   "cell_type": "markdown",
   "metadata": {},
   "source": [
    "<h1>2. Visualize Training Data</h1>"
   ]
  },
  {
   "cell_type": "code",
   "execution_count": 201,
   "metadata": {},
   "outputs": [
    {
     "data": {
      "image/png": "[encoded data removed]",
      "text/plain": [
       "<Figure size 1500x500 with 10 Axes>"
      ]
     },
     "metadata": {},
     "output_type": "display_data"
    }
   ],
   "source": [
    "# Use matplotlib to display randomly selected digits\n",
    "import matplotlib.pyplot as plt\n",
    "import random\n",
    "\n",
    "# Select 10 random samples from X_train\n",
    "num_samples = X_train.shape[0]\n",
    "digit_idx = random.sample(range(0, num_samples), 10)\n",
    "\n",
    "# Display the images in a grid using matplotlib\n",
    "fig, axs = plt.subplots(1,10, figsize=(15,5))\n",
    "for idx, digit in enumerate(digit_idx):\n",
    "    axs[idx].axis('off')\n",
    "    axs[idx].imshow(X_train[digit].reshape(8,8), cmap='gray')\n",
    "    # Assign each digit its corresponding label\n",
    "    axs[idx].set_title(f\"Label: {y_train[digit]}\")"
   ]
  },
  {
   "cell_type": "markdown",
   "metadata": {},
   "source": [
    "<h1>3. Implement the k-Nearest Neighbor Classifier</h1>"
   ]
  },
  {
   "cell_type": "code",
   "execution_count": 202,
   "metadata": {},
   "outputs": [
    {
     "name": "stdout",
     "output_type": "stream",
     "text": [
      "Training classifier: k = 1\n",
      "Training classifier: k = 3\n",
      "Training classifier: k = 5\n",
      "Training classifier: k = 7\n",
      "Training classifier: k = 9\n",
      "Classifiers trained successfully.\n"
     ]
    }
   ],
   "source": [
    "# Train multiple k-NN classifiers using sklearn KNeightborsClassifier\n",
    "from sklearn.neighbors import KNeighborsClassifier\n",
    "\n",
    "# Train 5 seperate classifiers with k = 1, 3, 5, 7, and 9\n",
    "k = [1, 3, 5, 7, 9]\n",
    "knn_classifiers = []\n",
    "for n_neighbors in k:\n",
    "    print(f\"Training classifier: k = {n_neighbors}\")\n",
    "    classifier = KNeighborsClassifier(n_neighbors=n_neighbors)\n",
    "    # Fit each model with X_train and y_train\n",
    "    classifier.fit(X_train, y_train)\n",
    "    knn_classifiers.append(classifier)\n",
    "print(\"Classifiers trained successfully.\")"
   ]
  },
  {
   "cell_type": "markdown",
   "metadata": {},
   "source": [
    "<h1>4. Evaluate and Compare Classifiers</h1>\n",
    "\n",
    "*Note you have to install the tabulate library using the following function in your command line*\n",
    "\n",
    "***pip install tabulate***\n",
    "\n",
    "*otherwise the dataframe containing F1 scores will not print properly*"
   ]
  },
  {
   "cell_type": "code",
   "execution_count": 203,
   "metadata": {},
   "outputs": [
    {
     "name": "stdout",
     "output_type": "stream",
     "text": [
      "|   k |   F1_score |\n",
      "|----:|-----------:|\n",
      "|   1 |   0.984033 |\n",
      "|   3 |   0.989941 |\n",
      "|   5 |   0.993981 |\n",
      "|   7 |   0.991967 |\n",
      "|   9 |   0.98189  |\n"
     ]
    }
   ],
   "source": [
    "# Compare classifier performance for differnt k values using F1 score\n",
    "from sklearn.metrics import f1_score\n",
    "import pandas as pd\n",
    "\n",
    "# For each classifier predict the labels of X_test and calculate F1 score\n",
    "scores = []\n",
    "for classifier in knn_classifiers:\n",
    "    prediction = classifier.predict(X_test)\n",
    "    # Calculate F1 score with average='weighted'\n",
    "    f1 = f1_score(y_true=y_test, y_pred=prediction, average='weighted')\n",
    "    scores.append((classifier.n_neighbors, f1))\n",
    "\n",
    "# Display F1 scores in table via pandas dataframe for each k value\n",
    "df = pd.DataFrame(scores, columns=('k', 'F1_score'))\n",
    "print(df.to_markdown(index=False))"
   ]
  },
  {
   "cell_type": "markdown",
   "metadata": {},
   "source": [
    "*Summarize findings in a Markdown cell, discussing any patterns or trends observed across different k values, including changes in F1 scores*\n",
    "\n",
    "For the five k values listed we see excellent results. In general an F1 score of 0.9 or more means your model is pretty accurate. All of our k values have an F1 score of 0.98 or greater. However we do observe improvement from k=1 -> k=5 starting at 0.984... maxing out at 0.993..., subsequent k's past a value of 5 start to degrade in F1 score. I would be interested in seeing what occurs for higher k values. I predict the F1 score will begin to degrade as we increase k.\n"
   ]
  },
  {
   "cell_type": "markdown",
   "metadata": {},
   "source": [
    "<h1>5. Visualize Qualitative Predictions</h1>"
   ]
  },
  {
   "cell_type": "code",
   "execution_count": 204,
   "metadata": {},
   "outputs": [
    {
     "name": "stdout",
     "output_type": "stream",
     "text": [
      "K: 1\n"
     ]
    },
    {
     "data": {
      "image/png": "[encoded data removed]",
      "text/plain": [
       "<Figure size 1000x500 with 5 Axes>"
      ]
     },
     "metadata": {},
     "output_type": "display_data"
    },
    {
     "name": "stdout",
     "output_type": "stream",
     "text": [
      "K: 3\n"
     ]
    },
    {
     "data": {
      "image/png": "[encoded data removed]",
      "text/plain": [
       "<Figure size 1000x500 with 5 Axes>"
      ]
     },
     "metadata": {},
     "output_type": "display_data"
    },
    {
     "name": "stdout",
     "output_type": "stream",
     "text": [
      "K: 5\n"
     ]
    },
    {
     "data": {
      "image/png": "[encoded data removed]",
      "text/plain": [
       "<Figure size 1000x500 with 5 Axes>"
      ]
     },
     "metadata": {},
     "output_type": "display_data"
    },
    {
     "name": "stdout",
     "output_type": "stream",
     "text": [
      "K: 7\n"
     ]
    },
    {
     "data": {
      "image/png": "[encoded data removed]",
      "text/plain": [
       "<Figure size 1000x500 with 5 Axes>"
      ]
     },
     "metadata": {},
     "output_type": "display_data"
    },
    {
     "name": "stdout",
     "output_type": "stream",
     "text": [
      "K: 9\n"
     ]
    },
    {
     "data": {
      "image/png": "[encoded data removed]",
      "text/plain": [
       "<Figure size 1000x500 with 5 Axes>"
      ]
     },
     "metadata": {},
     "output_type": "display_data"
    }
   ],
   "source": [
    "# Evaluate classifiers via qualitatively observations\n",
    "num_samples = X_test.shape[0]\n",
    "for classifier in knn_classifiers:\n",
    "\n",
    "    # For each classifier select a few random digits\n",
    "    digit_idx = random.sample(range(0, num_samples), 5)\n",
    "    fig, axs = plt.subplots(1,5, figsize=(10,5))\n",
    "\n",
    "    # Predict label for each digit\n",
    "    y_pred = classifier.predict(X_test[digit_idx])\n",
    "\n",
    "    # Display each plot with the classifier's k value\n",
    "    print(f\"K: {classifier.n_neighbors}\")\n",
    "\n",
    "    for idx, digit in enumerate(digit_idx):\n",
    "        axs[idx].axis('off')\n",
    "        axs[idx].imshow(X_test[digit].reshape(8,8), cmap='gray')\n",
    "        # Display each digit with its predicted label and true label\n",
    "        axs[idx].set_title(f\"True: {y_test[digit]}\\nPred: {y_pred[idx]}\")\n",
    "    plt.show()"
   ]
  },
  {
   "cell_type": "markdown",
   "metadata": {},
   "source": [
    "*In a concluding Markdown cell, reflect on the results, noting any pat-terns or observations, especially for cases where predictions were correct or incorrect.*\n",
    "\n",
    "In conclusion, using k=5 seems to be best for classification. Looking through the documentation for sklearns KNeighborsClassifier,\n",
    "they also set the n_neighbors parameter for the model to 5 by default suggesting to me that computer scientists before me have done the tests\n",
    "and came to a similar conclusion. I also observed via qualitative observation that both k=9 and k=1 misclassify more often than the other k\n",
    "value's which supports my hypothesis."
   ]
  }
 ],
 "metadata": {
  "kernelspec": {
   "display_name": "Python (myenv)",
   "language": "python",
   "name": "myenv"
  },
  "language_info": {
   "codemirror_mode": {
    "name": "ipython",
    "version": 3
   },
   "file_extension": ".py",
   "mimetype": "text/x-python",
   "name": "python",
   "nbconvert_exporter": "python",
   "pygments_lexer": "ipython3",
   "version": "3.11.4"
  }
 },
 "nbformat": 4,
 "nbformat_minor": 2
}
